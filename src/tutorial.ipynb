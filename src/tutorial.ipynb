{
 "cells": [
  {
   "attachments": {},
   "cell_type": "markdown",
   "metadata": {},
   "source": [
    "# Distribution fit given a point and its derivative"
   ]
  },
  {
   "cell_type": "code",
   "execution_count": 1,
   "metadata": {},
   "outputs": [],
   "source": [
    "# import stuff\n",
    "\n",
    "import numpy as np\n",
    "import matplotlib.pyplot as plt"
   ]
  },
  {
   "attachments": {},
   "cell_type": "markdown",
   "metadata": {},
   "source": [
    "Let's first define the Cauchy distribution below."
   ]
  },
  {
   "cell_type": "code",
   "execution_count": 5,
   "metadata": {},
   "outputs": [],
   "source": [
    "# the Cauchy distribution\n",
    "def cauchy(x, mu, gamma):\n",
    "    return gamma / (np.pi * ( (x-mu)**2 + gamma**2 ))\n",
    "\n",
    "# when x = mu /pm delta_x\n",
    "def cauchy_zero(delta_x, gamma):\n",
    "    return gamma / (np.pi * (delta_x**2 + gamma**2))\n",
    "\n",
    "# its derivative when x=mu\n",
    "def cauchy_central_deriv(gamma):\n",
    "    return 1/(np.pi * gamma)"
   ]
  },
  {
   "attachments": {},
   "cell_type": "markdown",
   "metadata": {},
   "source": [
    "Now we can find the gamma from the following"
   ]
  },
  {
   "cell_type": "code",
   "execution_count": 3,
   "metadata": {},
   "outputs": [],
   "source": [
    "def gamma_from_derivative(derivative):\n",
    "    '''\n",
    "        gamma_from_derivative\n",
    "        returns the gamma from the input derivative\n",
    "\n",
    "        arg:\n",
    "            derivative : derivative at the centre of the distribution\n",
    "    '''\n",
    "    return 1/(np.pi * derivative)"
   ]
  },
  {
   "attachments": {},
   "cell_type": "markdown",
   "metadata": {},
   "source": [
    "This was a bit too easy... Let's visualize it and see what happens"
   ]
  },
  {
   "cell_type": "code",
   "execution_count": 8,
   "metadata": {},
   "outputs": [
    {
     "data": {
      "text/plain": [
       "[<matplotlib.lines.Line2D at 0x7fa0c1021b80>]"
      ]
     },
     "execution_count": 8,
     "metadata": {},
     "output_type": "execute_result"
    },
    {
     "data": {
      "image/png": "[encoded data removed]",
      "text/plain": [
       "<Figure size 432x288 with 1 Axes>"
      ]
     },
     "metadata": {
      "needs_background": "light"
     },
     "output_type": "display_data"
    }
   ],
   "source": [
    "sample_centre = 3.0\n",
    "sample_deriv  = 1.0\n",
    "\n",
    "gamma = gamma_from_derivative(sample_deriv)\n",
    "\n",
    "x_input = np.linspace(0,10,100)\n",
    "y_cauchy= cauchy(x_input, sample_centre, gamma)\n",
    "plt.plot(x_input,y_cauchy)"
   ]
  },
  {
   "cell_type": "code",
   "execution_count": 9,
   "metadata": {},
   "outputs": [
    {
     "data": {
      "text/plain": [
       "[<matplotlib.lines.Line2D at 0x7fa0c10f7520>]"
      ]
     },
     "execution_count": 9,
     "metadata": {},
     "output_type": "execute_result"
    },
    {
     "data": {
      "image/png": "[encoded data removed]",
      "text/plain": [
       "<Figure size 432x288 with 1 Axes>"
      ]
     },
     "metadata": {
      "needs_background": "light"
     },
     "output_type": "display_data"
    }
   ],
   "source": [
    "sample_centre = 5.0\n",
    "sample_deriv  = 3.0\n",
    "\n",
    "gamma = gamma_from_derivative(sample_deriv)\n",
    "\n",
    "x_input = np.linspace(0,10,100)\n",
    "y_cauchy= cauchy(x_input, sample_centre, gamma)\n",
    "plt.plot(x_input,y_cauchy)"
   ]
  },
  {
   "cell_type": "code",
   "execution_count": null,
   "metadata": {},
   "outputs": [],
   "source": []
  }
 ],
 "metadata": {
  "kernelspec": {
   "display_name": "base",
   "language": "python",
   "name": "python3"
  },
  "language_info": {
   "codemirror_mode": {
    "name": "ipython",
    "version": 3
   },
   "file_extension": ".py",
   "mimetype": "text/x-python",
   "name": "python",
   "nbconvert_exporter": "python",
   "pygments_lexer": "ipython3",
   "version": "3.9.12"
  },
  "orig_nbformat": 4
 },
 "nbformat": 4,
 "nbformat_minor": 2
}
